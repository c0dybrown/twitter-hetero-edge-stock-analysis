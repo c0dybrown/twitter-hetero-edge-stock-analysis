{
 "cells": [
  {
   "cell_type": "code",
   "execution_count": 1,
   "metadata": {},
   "outputs": [],
   "source": [
    "import sklearn\n",
    "from sklearn import linear_model\n",
    "from sklearn.model_selection import train_test_split\n",
    "from sklearn.model_selection import KFold\n",
    "from sklearn.metrics import accuracy_score, f1_score, precision_score, recall_score\n",
    "from sklearn import neighbors\n",
    "from sklearn.naive_bayes import BernoulliNB\n",
    "from sklearn.cluster import KMeans\n",
    "import sklearn.tree\n",
    "import numpy as np"
   ]
  },
  {
   "cell_type": "code",
   "execution_count": 2,
   "metadata": {},
   "outputs": [],
   "source": [
    "def _loadData():\n",
    "    finalList = list()\n",
    "    \n",
    "    with open(\"PYPL.csv\") as f:\n",
    "        for idx,line in enumerate(f):\n",
    "            if idx==0:\n",
    "                continue\n",
    "            \n",
    "            else:\n",
    "                tempList = list()\n",
    "                vals = line.strip().split(\",\")\n",
    "                for i in vals:\n",
    "                    tempList.append(float(i))\n",
    "                finalList.append(tempList)\n",
    "                \n",
    "    return finalList"
   ]
  },
  {
   "cell_type": "code",
   "execution_count": 3,
   "metadata": {},
   "outputs": [
    {
     "data": {
      "text/plain": [
       "(42512, 442)"
      ]
     },
     "execution_count": 3,
     "metadata": {},
     "output_type": "execute_result"
    }
   ],
   "source": [
    "data = np.array(_loadData())\n",
    "data.shape"
   ]
  },
  {
   "cell_type": "code",
   "execution_count": 4,
   "metadata": {},
   "outputs": [],
   "source": [
    "X_matrix = data[:, :-1] \n",
    "Y = data[:, -1]"
   ]
  },
  {
   "cell_type": "code",
   "execution_count": 5,
   "metadata": {},
   "outputs": [],
   "source": [
    "### select all rows except last column\n",
    "X_matrix = data[:, :-1] \n",
    "### select last column\n",
    "Y = data[:, -1]\n",
    "\n",
    "#Splitting training and testing data (features)\n",
    "X_train, X_test, y_train, y_test = train_test_split(X_matrix, Y, test_size=0.2, random_state=33)"
   ]
  },
  {
   "cell_type": "markdown",
   "metadata": {},
   "source": [
    "# Linear Regression"
   ]
  },
  {
   "cell_type": "code",
   "execution_count": 6,
   "metadata": {},
   "outputs": [
    {
     "name": "stderr",
     "output_type": "stream",
     "text": [
      "/root/anaconda2/lib/python2.7/site-packages/sklearn/linear_model/logistic.py:433: FutureWarning: Default solver will be changed to 'lbfgs' in 0.22. Specify a solver to silence this warning.\n",
      "  FutureWarning)\n"
     ]
    },
    {
     "name": "stdout",
     "output_type": "stream",
     "text": [
      "Residual sum of squares: 0.01\n",
      "Variance score: 0.99\n"
     ]
    }
   ],
   "source": [
    "# Linear regression\n",
    "# Create logistic regression object\n",
    "regr = linear_model.LogisticRegression()\n",
    "\n",
    "# Train the model using the training sets\n",
    "regr.fit(X_train, y_train)\n",
    "\n",
    "# The mean square error\n",
    "print(\"Residual sum of squares: %.2f\"\n",
    "      % np.mean((regr.predict(X_test) - y_test) ** 2))\n",
    "# Explained variance score: 1 is perfect prediction\n",
    "print('Variance score: %.2f' % regr.score(X_test, y_test))"
   ]
  },
  {
   "cell_type": "markdown",
   "metadata": {},
   "source": [
    "# Decision Tree"
   ]
  },
  {
   "cell_type": "code",
   "execution_count": 7,
   "metadata": {},
   "outputs": [],
   "source": [
    "### Initiate classifier\n",
    "infoGain_clf = sklearn.tree.DecisionTreeClassifier(criterion='entropy')"
   ]
  },
  {
   "cell_type": "code",
   "execution_count": 8,
   "metadata": {},
   "outputs": [
    {
     "name": "stdout",
     "output_type": "stream",
     "text": [
      "Mean precision: 0.14396141106046242\n",
      "StDev precision: 0.05064121075838462\n",
      "\n",
      "Mean recall: 0.12390262935765248\n",
      "StDev recall: 0.035715113134485166\n",
      "\n",
      "Mean f1: 0.13288502172424024\n",
      "StDev f1: 0.04235487226751117\n",
      "\n",
      "Mean accuracy: 0.9798175041822453\n",
      "StDev accuracy: 0.0009179653928655635\n"
     ]
    }
   ],
   "source": [
    "kf = KFold(5, shuffle=True, random_state=33)\n",
    "\n",
    "recallList = list()\n",
    "precisionList = list()\n",
    "f1List = list()\n",
    "accuracyList = list()\n",
    "\n",
    "for train_index, test_index in kf.split(X_matrix):\n",
    "    infoGain_clf_tree = infoGain_clf.fit(X_matrix[train_index], Y[train_index])\n",
    "    \n",
    "    test = Y[test_index]\n",
    "    pred = infoGain_clf.predict(X_matrix[test_index])\n",
    "    \n",
    "    #results = calcAccuracy(pred, test)\n",
    "    \n",
    "    recallList.append(recall_score(test, pred))\n",
    "    precisionList.append(precision_score(test, pred))\n",
    "    f1List.append(f1_score(test,pred))\n",
    "    accuracyList.append(accuracy_score(test,pred))\n",
    "\n",
    "\n",
    "print(\"Mean precision: \" + str(np.mean(precisionList)))\n",
    "print(\"StDev precision: \" + str(np.std(precisionList)))\n",
    "print(\"\")\n",
    "print(\"Mean recall: \" + str(np.mean(recallList)))\n",
    "print(\"StDev recall: \" + str(np.std(recallList)))\n",
    "print(\"\")\n",
    "print(\"Mean f1: \" + str(np.mean(f1List)))\n",
    "print(\"StDev f1: \" + str(np.std(f1List)))\n",
    "print(\"\")\n",
    "print(\"Mean accuracy: \" + str(np.mean(accuracyList)))\n",
    "print(\"StDev accuracy: \" + str(np.std(accuracyList)))"
   ]
  },
  {
   "cell_type": "markdown",
   "metadata": {},
   "source": [
    "# Naive Bayes Classifier"
   ]
  },
  {
   "cell_type": "code",
   "execution_count": 9,
   "metadata": {},
   "outputs": [],
   "source": [
    "### Initialize classifier\n",
    "infoGain_clf = BernoulliNB()"
   ]
  },
  {
   "cell_type": "code",
   "execution_count": 10,
   "metadata": {},
   "outputs": [
    {
     "name": "stdout",
     "output_type": "stream",
     "text": [
      "Mean precision: 0.07095280728754423\n",
      "StDev precision: 0.005646560472607891\n",
      "\n",
      "Mean recall: 0.7618823726050982\n",
      "StDev recall: 0.043849744833308564\n",
      "\n",
      "Mean f1: 0.1297794849398862\n",
      "StDev f1: 0.009854809030931135\n",
      "\n",
      "Mean accuracy: 0.8741296559839826\n",
      "StDev accuracy: 0.002572011638140312\n"
     ]
    }
   ],
   "source": [
    "kf = KFold(5, shuffle=True, random_state=33)\n",
    "\n",
    "recallList = list()\n",
    "precisionList = list()\n",
    "f1List = list()\n",
    "accuracyList = list()\n",
    "\n",
    "for train_index, test_index in kf.split(X_matrix):\n",
    "    infoGain_clf_tree = infoGain_clf.fit(X_matrix[train_index], Y[train_index])\n",
    "    \n",
    "    test = Y[test_index]\n",
    "    pred = infoGain_clf.predict(X_matrix[test_index])\n",
    "    \n",
    "    #results = calcAccuracy(pred, test)\n",
    "    \n",
    "    recallList.append(recall_score(test, pred))\n",
    "    precisionList.append(precision_score(test, pred))\n",
    "    f1List.append(f1_score(test,pred))\n",
    "    accuracyList.append(accuracy_score(test,pred))\n",
    "\n",
    "\n",
    "print(\"Mean precision: \" + str(np.mean(precisionList)))\n",
    "print(\"StDev precision: \" + str(np.std(precisionList)))\n",
    "print(\"\")\n",
    "print(\"Mean recall: \" + str(np.mean(recallList)))\n",
    "print(\"StDev recall: \" + str(np.std(recallList)))\n",
    "print(\"\")\n",
    "print(\"Mean f1: \" + str(np.mean(f1List)))\n",
    "print(\"StDev f1: \" + str(np.std(f1List)))\n",
    "print(\"\")\n",
    "print(\"Mean accuracy: \" + str(np.mean(accuracyList)))\n",
    "print(\"StDev accuracy: \" + str(np.std(accuracyList)))"
   ]
  },
  {
   "cell_type": "markdown",
   "metadata": {
    "collapsed": true
   },
   "source": [
    "# K-Means Clustering"
   ]
  },
  {
   "cell_type": "code",
   "execution_count": 11,
   "metadata": {},
   "outputs": [],
   "source": [
    "kmeans_cluster_algo = KMeans(n_clusters=2)"
   ]
  },
  {
   "cell_type": "code",
   "execution_count": 12,
   "metadata": {},
   "outputs": [
    {
     "data": {
      "text/plain": [
       "KMeans(algorithm='auto', copy_x=True, init='k-means++', max_iter=300,\n",
       "    n_clusters=2, n_init=10, n_jobs=None, precompute_distances='auto',\n",
       "    random_state=None, tol=0.0001, verbose=0)"
      ]
     },
     "execution_count": 12,
     "metadata": {},
     "output_type": "execute_result"
    }
   ],
   "source": [
    "kmeans_cluster_algo.fit(X_matrix)"
   ]
  },
  {
   "cell_type": "code",
   "execution_count": 13,
   "metadata": {},
   "outputs": [
    {
     "name": "stdout",
     "output_type": "stream",
     "text": [
      "Clusters (result of k-means)\n",
      "Counter({0: 35496, 1: 7016})\n",
      "Ground truth\n",
      "Counter({0.0: 41988, 1.0: 524})\n"
     ]
    }
   ],
   "source": [
    "import collections\n",
    "print \"Clusters (result of k-means)\"\n",
    "print collections.Counter(kmeans_cluster_algo.labels_) #Print the frequency of elements in a numpy array\n",
    "print \"Ground truth\"\n",
    "print collections.Counter(Y) # ditto"
   ]
  },
  {
   "cell_type": "code",
   "execution_count": null,
   "metadata": {},
   "outputs": [],
   "source": []
  }
 ],
 "metadata": {
  "anaconda-cloud": {},
  "kernelspec": {
   "display_name": "Python 2",
   "language": "python",
   "name": "python2"
  },
  "language_info": {
   "codemirror_mode": {
    "name": "ipython",
    "version": 2
   },
   "file_extension": ".py",
   "mimetype": "text/x-python",
   "name": "python",
   "nbconvert_exporter": "python",
   "pygments_lexer": "ipython2",
   "version": "2.7.16"
  }
 },
 "nbformat": 4,
 "nbformat_minor": 1
}
